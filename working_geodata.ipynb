{
 "cells": [
  {
   "cell_type": "markdown",
   "metadata": {},
   "source": [
    "We want to see:\n",
    "\n",
    "\n",
    "* at least two graphs containing exploration of the dataset\n",
    "* a statement of your question (or questions!) and how you arrived there\n",
    "* the explanation of at least two new columns you created and how you did it\n",
    "* the comparison between two classification approaches, including a qualitative discussion of  simplicity, time to run the model, and accuracy, precision, and/or recall\n",
    "* the comparison between two regression approaches, including a qualitative discussion of * simplicity, time to run the model, and accuracy, precision, and/or recall\n",
    "* an overall conclusion, with a preliminary answer to your initial question(s), next steps, and what other data you would like to have in order to better answer your question(s)"
   ]
  },
  {
   "cell_type": "code",
   "execution_count": 45,
   "metadata": {},
   "outputs": [],
   "source": [
    "import pandas as pd\n",
    "import numpy as np\n",
    "import sys\n",
    "from matplotlib import pyplot as plt\n",
    "df = pd.read_csv(\"profiles.csv\")\n",
    "cols = df.shape[1]\n",
    "rows = df.shape[0]\n",
    "pd.set_option('display.max_columns', cols*2)"
   ]
  },
  {
   "cell_type": "code",
   "execution_count": 4,
   "metadata": {},
   "outputs": [
    {
     "data": {
      "text/html": [
       "<div>\n",
       "<style scoped>\n",
       "    .dataframe tbody tr th:only-of-type {\n",
       "        vertical-align: middle;\n",
       "    }\n",
       "\n",
       "    .dataframe tbody tr th {\n",
       "        vertical-align: top;\n",
       "    }\n",
       "\n",
       "    .dataframe thead th {\n",
       "        text-align: right;\n",
       "    }\n",
       "</style>\n",
       "<table border=\"1\" class=\"dataframe\">\n",
       "  <thead>\n",
       "    <tr style=\"text-align: right;\">\n",
       "      <th></th>\n",
       "      <th>age</th>\n",
       "      <th>body_type</th>\n",
       "      <th>diet</th>\n",
       "      <th>drinks</th>\n",
       "      <th>drugs</th>\n",
       "      <th>education</th>\n",
       "      <th>essay0</th>\n",
       "      <th>essay1</th>\n",
       "      <th>essay2</th>\n",
       "      <th>essay3</th>\n",
       "      <th>essay4</th>\n",
       "      <th>essay5</th>\n",
       "      <th>essay6</th>\n",
       "      <th>essay7</th>\n",
       "      <th>essay8</th>\n",
       "      <th>essay9</th>\n",
       "      <th>ethnicity</th>\n",
       "      <th>height</th>\n",
       "      <th>income</th>\n",
       "      <th>job</th>\n",
       "      <th>last_online</th>\n",
       "      <th>location</th>\n",
       "      <th>offspring</th>\n",
       "      <th>orientation</th>\n",
       "      <th>pets</th>\n",
       "      <th>religion</th>\n",
       "      <th>sex</th>\n",
       "      <th>sign</th>\n",
       "      <th>smokes</th>\n",
       "      <th>speaks</th>\n",
       "      <th>status</th>\n",
       "    </tr>\n",
       "  </thead>\n",
       "  <tbody>\n",
       "    <tr>\n",
       "      <th>59945</th>\n",
       "      <td>39</td>\n",
       "      <td>average</td>\n",
       "      <td>NaN</td>\n",
       "      <td>socially</td>\n",
       "      <td>NaN</td>\n",
       "      <td>graduated from masters program</td>\n",
       "      <td>is it odd that having a little \"enemy\" status ...</td>\n",
       "      <td>i work with elderly people (psychotherapy and ...</td>\n",
       "      <td>i'm a great bullshitter. i don't know what it ...</td>\n",
       "      <td>either that i am funny/sarcastic, or that i am...</td>\n",
       "      <td>i just read the help by kathryn stockett, sooo...</td>\n",
       "      <td>1. family &amp;amp; friends &amp;amp; other humans - i...</td>\n",
       "      <td>sex, myself, other people, how amazing everyth...</td>\n",
       "      <td>out at happy hour with my friends, running int...</td>\n",
       "      <td>i wish i could cry like holly hunter in broadc...</td>\n",
       "      <td>if you have a back-bone, an opinion, a sense o...</td>\n",
       "      <td>white</td>\n",
       "      <td>68.0</td>\n",
       "      <td>-1</td>\n",
       "      <td>medicine / health</td>\n",
       "      <td>2012-06-29-00-42</td>\n",
       "      <td>san francisco, california</td>\n",
       "      <td>NaN</td>\n",
       "      <td>gay</td>\n",
       "      <td>likes dogs and likes cats</td>\n",
       "      <td>catholicism and laughing about it</td>\n",
       "      <td>m</td>\n",
       "      <td>gemini and it&amp;rsquo;s fun to think about</td>\n",
       "      <td>sometimes</td>\n",
       "      <td>english</td>\n",
       "      <td>single</td>\n",
       "    </tr>\n",
       "  </tbody>\n",
       "</table>\n",
       "</div>"
      ],
      "text/plain": [
       "       age body_type diet    drinks drugs                       education  \\\n",
       "59945   39   average  NaN  socially   NaN  graduated from masters program   \n",
       "\n",
       "                                                  essay0  \\\n",
       "59945  is it odd that having a little \"enemy\" status ...   \n",
       "\n",
       "                                                  essay1  \\\n",
       "59945  i work with elderly people (psychotherapy and ...   \n",
       "\n",
       "                                                  essay2  \\\n",
       "59945  i'm a great bullshitter. i don't know what it ...   \n",
       "\n",
       "                                                  essay3  \\\n",
       "59945  either that i am funny/sarcastic, or that i am...   \n",
       "\n",
       "                                                  essay4  \\\n",
       "59945  i just read the help by kathryn stockett, sooo...   \n",
       "\n",
       "                                                  essay5  \\\n",
       "59945  1. family &amp; friends &amp; other humans - i...   \n",
       "\n",
       "                                                  essay6  \\\n",
       "59945  sex, myself, other people, how amazing everyth...   \n",
       "\n",
       "                                                  essay7  \\\n",
       "59945  out at happy hour with my friends, running int...   \n",
       "\n",
       "                                                  essay8  \\\n",
       "59945  i wish i could cry like holly hunter in broadc...   \n",
       "\n",
       "                                                  essay9 ethnicity  height  \\\n",
       "59945  if you have a back-bone, an opinion, a sense o...     white    68.0   \n",
       "\n",
       "       income                job       last_online                   location  \\\n",
       "59945      -1  medicine / health  2012-06-29-00-42  san francisco, california   \n",
       "\n",
       "      offspring orientation                       pets  \\\n",
       "59945       NaN         gay  likes dogs and likes cats   \n",
       "\n",
       "                                religion sex  \\\n",
       "59945  catholicism and laughing about it   m   \n",
       "\n",
       "                                           sign     smokes   speaks  status  \n",
       "59945  gemini and it&rsquo;s fun to think about  sometimes  english  single  "
      ]
     },
     "execution_count": 4,
     "metadata": {},
     "output_type": "execute_result"
    }
   ],
   "source": [
    "df.tail(1)"
   ]
  },
  {
   "cell_type": "code",
   "execution_count": 9,
   "metadata": {},
   "outputs": [],
   "source": [
    "import json\n",
    "with open (\"us_states.json\", 'r') as f:\n",
    "    us_state_abbrev = json.load(f)"
   ]
  },
  {
   "cell_type": "markdown",
   "metadata": {},
   "source": [
    "<h3>Adding new columns - city, state, in the US, in CA, longtitude, and latitude</h3>\n",
    "\n",
    "I wanted to add geolocation data for geomapping, but along the way found out that almost all of the data was in California.  Because of this, I just got geolocation data for California cities.  \n",
    "\n",
    "It wasn't possible using the api I found to get geolocation data for all cities, but I was able to for almost all of them."
   ]
  },
  {
   "cell_type": "code",
   "execution_count": 46,
   "metadata": {},
   "outputs": [
    {
     "name": "stdout",
     "output_type": "stream",
     "text": [
      "99.97831381576752% in US\n",
      "99.84819671037268% in CA\n"
     ]
    }
   ],
   "source": [
    "df['city'] = df.location.map(lambda l : l.split(\", \")[0])\n",
    "df['state'] = df.location.map(lambda l : l.split(\", \")[1])\n",
    "df['stateAbbr'] = df.state.map(lambda s : us_state_abbrev[s] if s in us_state_abbrev else s)\n",
    "df['inUS'] = df.state.map(lambda s : s in us_state_abbrev)\n",
    "df['inCA'] = df.state.map(lambda s : s == 'california')\n",
    "\n",
    "inUS = df.inUS.value_counts()\n",
    "inCA = df.inCA.value_counts()\n",
    "print(\"{}% in US\".format(inUS[1]/rows*100))\n",
    "print(\"{}% in CA\".format(inCA[1]/rows*100))"
   ]
  },
  {
   "cell_type": "markdown",
   "metadata": {},
   "source": [
    "Because 99.978% of the data are in the US and 99.848% of the data are in California, all non-California observations are going to be ignored for any geo-location summary information."
   ]
  },
  {
   "cell_type": "code",
   "execution_count": 57,
   "metadata": {},
   "outputs": [],
   "source": [
    "import requests\n",
    "def getLatLong(location):\n",
    "    print(\".\", end=\"\")\n",
    "    response = requests.get(\"http://open.mapquestapi.com/geocoding/v1/address?key=pxVoRtOLk6bTqJAGmcCdLY9ZrLGA707h&location={}\".format(location))  \n",
    "    try:\n",
    "        response = response.json()\n",
    "        state = location.split(\", \")[1]\n",
    "        latLong = None\n",
    "        for data in response['results'][0]['locations']:\n",
    "            if state == data['adminArea3']:\n",
    "                latLong = data['latLng']\n",
    "        if not latLong: # could not find the actual state's data\n",
    "            raise\n",
    "        lat = latLong['lat']\n",
    "        long = latLong['lng']\n",
    "        return lat, long\n",
    "    except:\n",
    "        print(\" {} missing \".format(location), end=\"\")\n",
    "        return None, None"
   ]
  },
  {
   "cell_type": "markdown",
   "metadata": {},
   "source": [
    "First, we need to find unique locations and get the latitude and longtitude for them.  I am using an api key from mapquest and their geocoding api to do this."
   ]
  },
  {
   "cell_type": "code",
   "execution_count": 68,
   "metadata": {},
   "outputs": [
    {
     "name": "stdout",
     "output_type": "stream",
     "text": [
      ".......................... martinez, CA, US missing ..... albany, CA, US missing .............. green brae, CA, US missing ..... belvedere tiburon, CA, US missing .... crockett, CA, US missing . el granada, CA, US missing ...... piedmont, CA, US missing .. westlake, CA, US missing .......... san diego, CA, US missing . santa cruz, CA, US missing ..... bayshore, CA, US missing .... kensington, CA, US missing ....... irvine, CA, US missing ..... union city, CA, US missing ...... modesto, CA, US missing ........... long beach, CA, US missing . pasadena, CA, US missing . canyon, CA, US missing .. arcadia, CA, US missing ........... chico, CA, US missing ....... ashland, CA, US missing ."
     ]
    }
   ],
   "source": [
    "locations = df.location.value_counts().index\n",
    "location_counts = list(df.location.value_counts())\n",
    "location_dict = {}\n",
    "\n",
    "for location, count in zip(locations,location_counts):\n",
    "    city = location.split(\", \")[0]\n",
    "    state = location.split(\", \")[1]\n",
    "    if not state == 'california':\n",
    "        continue\n",
    "    lat, long = getLatLong(\"{}, CA, US\".format(city))\n",
    "    if not lat:\n",
    "        continue\n",
    "    location_dict[city] = {\"count\": count, \"lat\": lat, \"long\": long}"
   ]
  },
  {
   "cell_type": "code",
   "execution_count": 71,
   "metadata": {},
   "outputs": [],
   "source": [
    "df['lat'] = df.city.map(lambda c : location_dict[c]['lat'] if c in location_dict else None)\n",
    "df['long'] = df.city.map(lambda c : location_dict[c]['long'] if c in location_dict else None)"
   ]
  },
  {
   "cell_type": "markdown",
   "metadata": {},
   "source": [
    "Because this takes a while to fetch this data, I am saving the dataframe and geolocation data with counts in the next frame and reloading it in the following frame.  I can start from there in the future."
   ]
  },
  {
   "cell_type": "code",
   "execution_count": 77,
   "metadata": {},
   "outputs": [],
   "source": [
    "df.to_csv(\"profilesWithGeoData.csv\")\n",
    "import json\n",
    "with open('location_dict.json', 'w') as f:\n",
    "    json.dump(location_dict, f)"
   ]
  },
  {
   "cell_type": "markdown",
   "metadata": {},
   "source": [
    "<h3>Start from here in the future (no need to redo getting geolocation data)</h3>"
   ]
  },
  {
   "cell_type": "code",
   "execution_count": 3,
   "metadata": {},
   "outputs": [
    {
     "data": {
      "text/html": [
       "<div>\n",
       "<style scoped>\n",
       "    .dataframe tbody tr th:only-of-type {\n",
       "        vertical-align: middle;\n",
       "    }\n",
       "\n",
       "    .dataframe tbody tr th {\n",
       "        vertical-align: top;\n",
       "    }\n",
       "\n",
       "    .dataframe thead th {\n",
       "        text-align: right;\n",
       "    }\n",
       "</style>\n",
       "<table border=\"1\" class=\"dataframe\">\n",
       "  <thead>\n",
       "    <tr style=\"text-align: right;\">\n",
       "      <th></th>\n",
       "      <th>Unnamed: 0</th>\n",
       "      <th>age</th>\n",
       "      <th>body_type</th>\n",
       "      <th>diet</th>\n",
       "      <th>drinks</th>\n",
       "      <th>drugs</th>\n",
       "      <th>education</th>\n",
       "      <th>essay0</th>\n",
       "      <th>essay1</th>\n",
       "      <th>essay2</th>\n",
       "      <th>essay3</th>\n",
       "      <th>essay4</th>\n",
       "      <th>essay5</th>\n",
       "      <th>essay6</th>\n",
       "      <th>essay7</th>\n",
       "      <th>essay8</th>\n",
       "      <th>essay9</th>\n",
       "      <th>ethnicity</th>\n",
       "      <th>height</th>\n",
       "      <th>income</th>\n",
       "      <th>job</th>\n",
       "      <th>last_online</th>\n",
       "      <th>location</th>\n",
       "      <th>offspring</th>\n",
       "      <th>orientation</th>\n",
       "      <th>pets</th>\n",
       "      <th>religion</th>\n",
       "      <th>sex</th>\n",
       "      <th>sign</th>\n",
       "      <th>smokes</th>\n",
       "      <th>speaks</th>\n",
       "      <th>status</th>\n",
       "      <th>city</th>\n",
       "      <th>state</th>\n",
       "      <th>stateAbbr</th>\n",
       "      <th>inUS</th>\n",
       "      <th>inCA</th>\n",
       "      <th>lat</th>\n",
       "      <th>long</th>\n",
       "    </tr>\n",
       "  </thead>\n",
       "  <tbody>\n",
       "    <tr>\n",
       "      <th>0</th>\n",
       "      <td>0</td>\n",
       "      <td>22</td>\n",
       "      <td>a little extra</td>\n",
       "      <td>strictly anything</td>\n",
       "      <td>socially</td>\n",
       "      <td>never</td>\n",
       "      <td>working on college/university</td>\n",
       "      <td>about me:&lt;br /&gt;\\r\\n&lt;br /&gt;\\r\\ni would love to t...</td>\n",
       "      <td>currently working as an international agent fo...</td>\n",
       "      <td>making people laugh.&lt;br /&gt;\\r\\nranting about a ...</td>\n",
       "      <td>the way i look. i am a six foot half asian, ha...</td>\n",
       "      <td>books:&lt;br /&gt;\\r\\nabsurdistan, the republic, of ...</td>\n",
       "      <td>food.&lt;br /&gt;\\r\\nwater.&lt;br /&gt;\\r\\ncell phone.&lt;br ...</td>\n",
       "      <td>duality and humorous things</td>\n",
       "      <td>trying to find someone to hang out with. i am ...</td>\n",
       "      <td>i am new to california and looking for someone...</td>\n",
       "      <td>you want to be swept off your feet!&lt;br /&gt;\\r\\ny...</td>\n",
       "      <td>asian, white</td>\n",
       "      <td>75.0</td>\n",
       "      <td>-1</td>\n",
       "      <td>transportation</td>\n",
       "      <td>2012-06-28-20-30</td>\n",
       "      <td>south san francisco, california</td>\n",
       "      <td>doesn&amp;rsquo;t have kids, but might want them</td>\n",
       "      <td>straight</td>\n",
       "      <td>likes dogs and likes cats</td>\n",
       "      <td>agnosticism and very serious about it</td>\n",
       "      <td>m</td>\n",
       "      <td>gemini</td>\n",
       "      <td>sometimes</td>\n",
       "      <td>english</td>\n",
       "      <td>single</td>\n",
       "      <td>south san francisco</td>\n",
       "      <td>california</td>\n",
       "      <td>CA</td>\n",
       "      <td>True</td>\n",
       "      <td>True</td>\n",
       "      <td>37.654949</td>\n",
       "      <td>-122.408125</td>\n",
       "    </tr>\n",
       "  </tbody>\n",
       "</table>\n",
       "</div>"
      ],
      "text/plain": [
       "   Unnamed: 0  age       body_type               diet    drinks  drugs  \\\n",
       "0           0   22  a little extra  strictly anything  socially  never   \n",
       "\n",
       "                       education  \\\n",
       "0  working on college/university   \n",
       "\n",
       "                                              essay0  \\\n",
       "0  about me:<br />\\r\\n<br />\\r\\ni would love to t...   \n",
       "\n",
       "                                              essay1  \\\n",
       "0  currently working as an international agent fo...   \n",
       "\n",
       "                                              essay2  \\\n",
       "0  making people laugh.<br />\\r\\nranting about a ...   \n",
       "\n",
       "                                              essay3  \\\n",
       "0  the way i look. i am a six foot half asian, ha...   \n",
       "\n",
       "                                              essay4  \\\n",
       "0  books:<br />\\r\\nabsurdistan, the republic, of ...   \n",
       "\n",
       "                                              essay5  \\\n",
       "0  food.<br />\\r\\nwater.<br />\\r\\ncell phone.<br ...   \n",
       "\n",
       "                        essay6  \\\n",
       "0  duality and humorous things   \n",
       "\n",
       "                                              essay7  \\\n",
       "0  trying to find someone to hang out with. i am ...   \n",
       "\n",
       "                                              essay8  \\\n",
       "0  i am new to california and looking for someone...   \n",
       "\n",
       "                                              essay9     ethnicity  height  \\\n",
       "0  you want to be swept off your feet!<br />\\r\\ny...  asian, white    75.0   \n",
       "\n",
       "   income             job       last_online                         location  \\\n",
       "0      -1  transportation  2012-06-28-20-30  south san francisco, california   \n",
       "\n",
       "                                      offspring orientation  \\\n",
       "0  doesn&rsquo;t have kids, but might want them    straight   \n",
       "\n",
       "                        pets                               religion sex  \\\n",
       "0  likes dogs and likes cats  agnosticism and very serious about it   m   \n",
       "\n",
       "     sign     smokes   speaks  status                 city       state  \\\n",
       "0  gemini  sometimes  english  single  south san francisco  california   \n",
       "\n",
       "  stateAbbr  inUS  inCA        lat        long  \n",
       "0        CA  True  True  37.654949 -122.408125  "
      ]
     },
     "execution_count": 3,
     "metadata": {},
     "output_type": "execute_result"
    }
   ],
   "source": [
    "import pandas as pd\n",
    "import numpy as np\n",
    "import sys, json\n",
    "from matplotlib import pyplot as plt\n",
    "\n",
    "with open('location_dict.json', 'r') as f:\n",
    "    location_dict = json.load(f)\n",
    "\n",
    "df = pd.read_csv(\"profilesWithGeoData.csv\")\n",
    "cols = df.shape[1]\n",
    "rows = df.shape[0]\n",
    "pd.set_option('display.max_columns', cols*2)\n",
    "df.head(1)"
   ]
  },
  {
   "cell_type": "code",
   "execution_count": 13,
   "metadata": {},
   "outputs": [],
   "source": [
    "!{sys.executable} -m pip install -q folium\n",
    "import folium\n",
    "import math\n",
    "\n",
    "\n",
    "MAX_COUNT = math.log(list(df.location.value_counts())[0])\n",
    "MIN_LISTINGS = 10\n",
    "color_scaler = (max_count)/255\n",
    "def percToRed(perc):\n",
    "    return '#%02x%02x%02x' % (255, 255-int(perc*255), 255-int(perc*255))\n",
    "\n",
    "# map centered on US\n",
    "dating_map = folium.Map(location=[36.7783, -119.4179], zoom_start=6)\n",
    "\n",
    "for location, data in location_dict.items():\n",
    "    count = data['count']\n",
    "    if count < MIN_LISTINGS:\n",
    "        continue # ignore locations with less than MIN_LISTINGS listings\n",
    "    percent = math.log(count)/MAX_COUNT\n",
    "    color = percToRed(percent)\n",
    "    folium.CircleMarker(\n",
    "        [data['lat'], data['long']],\n",
    "        radius=5,\n",
    "        popup=folium.Popup(\"{} ({} listings)\".format(location, count), parse_html=True),\n",
    "        fill=True,\n",
    "        color=color,\n",
    "        fill_color=color,\n",
    "        fill_opacity=0.6\n",
    "        ).add_to(dating_map)"
   ]
  },
  {
   "cell_type": "markdown",
   "metadata": {},
   "source": [
    "<h3>First 'graph' - listing density by geolocation</h3>\n",
    "\n",
    "The map below shows the density of listings by geolocation.  The log of the number of listings per location was taken, as otherwise everything but San Francisco would be white. \n",
    "\n",
    "(the scale for the map markers is white to red, white being low density of listings and red being high)"
   ]
  },
  {
   "cell_type": "code",
   "execution_count": 14,
   "metadata": {},
   "outputs": [
    {
     "data": {
      "text/html": [
       "<div style=\"width:100%;\"><div style=\"position:relative;width:100%;height:0;padding-bottom:60%;\"><iframe src=\"data:text/html;charset=utf-8;base64,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\" style=\"position:absolute;width:100%;height:100%;left:0;top:0;border:none !important;\" allowfullscreen webkitallowfullscreen mozallowfullscreen></iframe></div></div>"
      ],
      "text/plain": [
       "<folium.folium.Map at 0x23747ea0a90>"
      ]
     },
     "execution_count": 14,
     "metadata": {},
     "output_type": "execute_result"
    }
   ],
   "source": [
    "dating_map"
   ]
  },
  {
   "cell_type": "code",
   "execution_count": null,
   "metadata": {},
   "outputs": [],
   "source": []
  }
 ],
 "metadata": {
  "kernelspec": {
   "display_name": "Python 3",
   "language": "python",
   "name": "python3"
  },
  "language_info": {
   "codemirror_mode": {
    "name": "ipython",
    "version": 3
   },
   "file_extension": ".py",
   "mimetype": "text/x-python",
   "name": "python",
   "nbconvert_exporter": "python",
   "pygments_lexer": "ipython3",
   "version": "3.6.3"
  }
 },
 "nbformat": 4,
 "nbformat_minor": 2
}
